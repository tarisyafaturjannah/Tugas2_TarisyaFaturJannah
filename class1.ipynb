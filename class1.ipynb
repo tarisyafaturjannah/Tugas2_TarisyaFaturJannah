{
  "nbformat": 4,
  "nbformat_minor": 0,
  "metadata": {
    "colab": {
      "provenance": [],
      "authorship_tag": "ABX9TyOAmKvIlSaM2FHGOGay03Y2",
      "include_colab_link": true
    },
    "kernelspec": {
      "name": "python3",
      "display_name": "Python 3"
    },
    "language_info": {
      "name": "python"
    }
  },
  "cells": [
    {
      "cell_type": "markdown",
      "metadata": {
        "id": "view-in-github",
        "colab_type": "text"
      },
      "source": [
        "<a href=\"https://colab.research.google.com/github/tarisyafaturjannah/Tugas2_TarisyaFaturJannah/blob/main/class1.ipynb\" target=\"_parent\"><img src=\"https://colab.research.google.com/assets/colab-badge.svg\" alt=\"Open In Colab\"/></a>"
      ]
    },
    {
      "cell_type": "code",
      "execution_count": 7,
      "metadata": {
        "colab": {
          "base_uri": "https://localhost:8080/"
        },
        "id": "u1zp47m3JA0z",
        "outputId": "6f43bea6-b7df-45a8-d817-0ea7568a3921"
      },
      "outputs": [
        {
          "output_type": "stream",
          "name": "stdout",
          "text": [
            "Bunga Mawar dengan warna Merah sedang mekar.\n",
            "Bunga Tulip tumbuh 5 cm. Tinggi sekarang: 30 cm.\n",
            "Bunga Mawar berwarna Merah dengan tinggi 30 cm.\n"
          ]
        }
      ],
      "source": [
        "#class Bunga\n",
        "class Bunga:\n",
        "    def __init__(self, nama, warna, tinggi):\n",
        "        self.nama = nama\n",
        "        self.warna = warna\n",
        "        self.tinggi = tinggi\n",
        "\n",
        "    def mekar(self):\n",
        "        return f\"Bunga {self.nama} dengan warna {self.warna} sedang mekar.\"\n",
        "\n",
        "    def tumbuh(self, cm):\n",
        "        self.tinggi += cm\n",
        "        return f\"Bunga {self.nama} tumbuh {cm} cm. Tinggi sekarang: {self.tinggi} cm.\"\n",
        "\n",
        "    def deskripsi(self):\n",
        "        return f\"Bunga {self.nama} berwarna {self.warna} dengan tinggi {self.tinggi} cm.\"\n",
        "\n",
        "\n",
        "mawar = Bunga(\"Mawar\", \"Merah\", 30)\n",
        "tulip = Bunga(\"Tulip\", \"Kuning\", 25)\n",
        "\n",
        "\n",
        "print(mawar.mekar())\n",
        "print(tulip.tumbuh(5))\n",
        "print(mawar.deskripsi())\n"
      ]
    }
  ]
}