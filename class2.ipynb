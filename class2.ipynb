{
  "nbformat": 4,
  "nbformat_minor": 0,
  "metadata": {
    "colab": {
      "provenance": [],
      "authorship_tag": "ABX9TyO7jjKonIXXH+4PpQwv/ydk",
      "include_colab_link": true
    },
    "kernelspec": {
      "name": "python3",
      "display_name": "Python 3"
    },
    "language_info": {
      "name": "python"
    }
  },
  "cells": [
    {
      "cell_type": "markdown",
      "metadata": {
        "id": "view-in-github",
        "colab_type": "text"
      },
      "source": [
        "<a href=\"https://colab.research.google.com/github/tarisyafaturjannah/Tugas2_TarisyaFaturJannah/blob/main/class2.ipynb\" target=\"_parent\"><img src=\"https://colab.research.google.com/assets/colab-badge.svg\" alt=\"Open In Colab\"/></a>"
      ]
    },
    {
      "cell_type": "code",
      "execution_count": 8,
      "metadata": {
        "colab": {
          "base_uri": "https://localhost:8080/"
        },
        "id": "u1zp47m3JA0z",
        "outputId": "e1154883-8fc2-46fb-c675-8cf7dcd9ee95"
      },
      "outputs": [
        {
          "output_type": "stream",
          "name": "stdout",
          "text": [
            "Mobil Toyota Corolla keluaran tahun 2020 dengan kecepatan 0 km/jam.\n",
            "Toyota Corolla bertambah kecepatan 30 km/jam. Kecepatan sekarang: 30 km/jam.\n",
            "Honda Civic mengurangi kecepatan 10 km/jam. Kecepatan sekarang: 10 km/jam.\n"
          ]
        }
      ],
      "source": [
        "class Mobil:\n",
        "    def __init__(self, merk, model, tahun, kecepatan=0):\n",
        "        self.merk = merk\n",
        "        self.model = model\n",
        "        self.tahun = tahun\n",
        "        self.kecepatan = kecepatan\n",
        "\n",
        "    def percepat(self, tambah_kecepatan):\n",
        "        self.kecepatan += tambah_kecepatan\n",
        "        return f\"{self.merk} {self.model} bertambah kecepatan {tambah_kecepatan} km/jam. Kecepatan sekarang: {self.kecepatan} km/jam.\"\n",
        "\n",
        "    def perlambat(self, kurangi_kecepatan):\n",
        "        self.kecepatan = max(0, self.kecepatan - kurangi_kecepatan)\n",
        "        return f\"{self.merk} {self.model} mengurangi kecepatan {kurangi_kecepatan} km/jam. Kecepatan sekarang: {self.kecepatan} km/jam.\"\n",
        "\n",
        "    def deskripsi(self):\n",
        "        return f\"Mobil {self.merk} {self.model} keluaran tahun {self.tahun} dengan kecepatan {self.kecepatan} km/jam.\"\n",
        "\n",
        "mobil1 = Mobil(\"Toyota\", \"Corolla\", 2020)\n",
        "mobil2 = Mobil(\"Honda\", \"Civic\", 2019, 20)\n",
        "\n",
        "print(mobil1.deskripsi())\n",
        "print(mobil1.percepat(30))\n",
        "print(mobil2.perlambat(10))\n"
      ]
    }
  ]
}