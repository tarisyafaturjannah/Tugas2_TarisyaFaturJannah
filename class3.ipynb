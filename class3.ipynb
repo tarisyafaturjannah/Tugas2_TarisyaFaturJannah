{
  "nbformat": 4,
  "nbformat_minor": 0,
  "metadata": {
    "colab": {
      "provenance": [],
      "authorship_tag": "ABX9TyOLZn1ghOdLRcwtN1f+MZkX",
      "include_colab_link": true
    },
    "kernelspec": {
      "name": "python3",
      "display_name": "Python 3"
    },
    "language_info": {
      "name": "python"
    }
  },
  "cells": [
    {
      "cell_type": "markdown",
      "metadata": {
        "id": "view-in-github",
        "colab_type": "text"
      },
      "source": [
        "<a href=\"https://colab.research.google.com/github/tarisyafaturjannah/Tugas2_TarisyaFaturJannah/blob/main/class3.ipynb\" target=\"_parent\"><img src=\"https://colab.research.google.com/assets/colab-badge.svg\" alt=\"Open In Colab\"/></a>"
      ]
    },
    {
      "cell_type": "code",
      "execution_count": 9,
      "metadata": {
        "colab": {
          "base_uri": "https://localhost:8080/"
        },
        "id": "u1zp47m3JA0z",
        "outputId": "31cf2726-5e6d-4f8c-80e2-78114d05b6ef"
      },
      "outputs": [
        {
          "output_type": "stream",
          "name": "stdout",
          "text": [
            "Mangga adalah tumbuhan jenis Pohon dengan tinggi 150 cm.\n",
            "Mangga tumbuh 20 cm. Tinggi sekarang: 170 cm.\n",
            "Mawar sedang melakukan fotosintesis untuk menghasilkan oksigen.\n"
          ]
        }
      ],
      "source": [
        "class Tumbuhan:\n",
        "    def __init__(self, nama, jenis, tinggi):\n",
        "        self.nama = nama\n",
        "        self.jenis = jenis\n",
        "        self.tinggi = tinggi\n",
        "\n",
        "    def tumbuh(self, cm):\n",
        "        self.tinggi += cm\n",
        "        return f\"{self.nama} tumbuh {cm} cm. Tinggi sekarang: {self.tinggi} cm.\"\n",
        "\n",
        "    def fotosintesis(self):\n",
        "        return f\"{self.nama} sedang melakukan fotosintesis untuk menghasilkan oksigen.\"\n",
        "\n",
        "    def deskripsi(self):\n",
        "        return f\"{self.nama} adalah tumbuhan jenis {self.jenis} dengan tinggi {self.tinggi} cm.\"\n",
        "\n",
        "tumbuhan1 = Tumbuhan(\"Mangga\", \"Pohon\", 150)\n",
        "tumbuhan2 = Tumbuhan(\"Mawar\", \"Bunga\", 30)\n",
        "\n",
        "print(tumbuhan1.deskripsi())\n",
        "print(tumbuhan1.tumbuh(20))\n",
        "print(tumbuhan2.fotosintesis())\n"
      ]
    }
  ]
}