{
  "nbformat": 4,
  "nbformat_minor": 0,
  "metadata": {
    "colab": {
      "provenance": [],
      "authorship_tag": "ABX9TyNe8EgT0SkXsnVTyXu+q1mQ",
      "include_colab_link": true
    },
    "kernelspec": {
      "name": "python3",
      "display_name": "Python 3"
    },
    "language_info": {
      "name": "python"
    }
  },
  "cells": [
    {
      "cell_type": "markdown",
      "metadata": {
        "id": "view-in-github",
        "colab_type": "text"
      },
      "source": [
        "<a href=\"https://colab.research.google.com/github/tarisyafaturjannah/Tugas2_TarisyaFaturJannah/blob/main/class5.ipynb\" target=\"_parent\"><img src=\"https://colab.research.google.com/assets/colab-badge.svg\" alt=\"Open In Colab\"/></a>"
      ]
    },
    {
      "cell_type": "code",
      "execution_count": 10,
      "metadata": {
        "colab": {
          "base_uri": "https://localhost:8080/"
        },
        "id": "u1zp47m3JA0z",
        "outputId": "aa158e56-28d2-4e59-df02-c5da44882aad"
      },
      "outputs": [
        {
          "output_type": "stream",
          "name": "stdout",
          "text": [
            "Nasi Goreng adalah makanan jenis Makanan Berat dengan total kalori 500 kcal.\n",
            "Nasi Goreng bertambah 100 kcal. Total kalori sekarang: 600 kcal.\n",
            "Es Krim sedang dikonsumsi. Nikmati makanan Anda!\n"
          ]
        }
      ],
      "source": [
        "class Anak:\n",
        "    def __init__(self, nama, umur, sekolah):\n",
        "        self.nama = nama\n",
        "        self.umur = umur\n",
        "        self.sekolah = sekolah\n",
        "\n",
        "    def bertambah_umur(self, tahun):\n",
        "        self.umur += tahun\n",
        "        return f\"{self.nama} bertambah usia {tahun} tahun. Sekarang berumur {self.umur} tahun.\"\n",
        "\n",
        "    def deskripsi(self):\n",
        "        return f\"{self.nama} berusia {self.umur} tahun dan bersekolah di {self.sekolah}.\"\n",
        "\n",
        "    def bermain(self, permainan):\n",
        "        return f\"{self.nama} sedang bermain {permainan}.\"\n",
        "\n",
        "# Membuat objek dari kelas Anak\n",
        "anak1 = Anak(\"Budi\", 7, \"SD Negeri 01\")\n",
        "anak2 = Anak(\"Siti\", 6, \"TK Ceria\")\n",
        "\n",
        "# Menggunakan metode pada objek\n",
        "print(anak1.deskripsi())\n",
        "print(anak1.bertambah_umur(1))\n",
        "print(anak2.bermain(\"Lompat Tali\"))"
      ]
    }
  ]
}