{
  "nbformat": 4,
  "nbformat_minor": 0,
  "metadata": {
    "colab": {
      "provenance": [],
      "authorship_tag": "ABX9TyMV/pp+GA/uZcsLnxkaJsE0",
      "include_colab_link": true
    },
    "kernelspec": {
      "name": "python3",
      "display_name": "Python 3"
    },
    "language_info": {
      "name": "python"
    }
  },
  "cells": [
    {
      "cell_type": "markdown",
      "metadata": {
        "id": "view-in-github",
        "colab_type": "text"
      },
      "source": [
        "<a href=\"https://colab.research.google.com/github/tarisyafaturjannah/Tugas2_TarisyaFaturJannah/blob/main/class4.ipynb\" target=\"_parent\"><img src=\"https://colab.research.google.com/assets/colab-badge.svg\" alt=\"Open In Colab\"/></a>"
      ]
    },
    {
      "cell_type": "code",
      "execution_count": 10,
      "metadata": {
        "colab": {
          "base_uri": "https://localhost:8080/"
        },
        "id": "u1zp47m3JA0z",
        "outputId": "aa158e56-28d2-4e59-df02-c5da44882aad"
      },
      "outputs": [
        {
          "output_type": "stream",
          "name": "stdout",
          "text": [
            "Nasi Goreng adalah makanan jenis Makanan Berat dengan total kalori 500 kcal.\n",
            "Nasi Goreng bertambah 100 kcal. Total kalori sekarang: 600 kcal.\n",
            "Es Krim sedang dikonsumsi. Nikmati makanan Anda!\n"
          ]
        }
      ],
      "source": [
        "class Makanan:\n",
        "    def __init__(self, nama, jenis, kalori):\n",
        "        self.nama = nama\n",
        "        self.jenis = jenis\n",
        "        self.kalori = kalori\n",
        "\n",
        "    def tambah_kalori(self, tambahan):\n",
        "        self.kalori += tambahan\n",
        "        return f\"{self.nama} bertambah {tambahan} kcal. Total kalori sekarang: {self.kalori} kcal.\"\n",
        "\n",
        "    def deskripsi(self):\n",
        "        return f\"{self.nama} adalah makanan jenis {self.jenis} dengan total kalori {self.kalori} kcal.\"\n",
        "\n",
        "    def konsumsi(self):\n",
        "        return f\"{self.nama} sedang dikonsumsi. Nikmati makanan Anda!\"\n",
        "\n",
        "makanan1 = Makanan(\"Nasi Goreng\", \"Makanan Berat\", 500)\n",
        "makanan2 = Makanan(\"Es Krim\", \"Makanan Penutup\", 250)\n",
        "\n",
        "print(makanan1.deskripsi())\n",
        "print(makanan1.tambah_kalori(100))\n",
        "print(makanan2.konsumsi())\n"
      ]
    }
  ]
}